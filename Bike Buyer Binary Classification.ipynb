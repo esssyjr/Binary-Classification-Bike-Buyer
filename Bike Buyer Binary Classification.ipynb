{
 "cells": [
  {
   "cell_type": "code",
   "execution_count": 124,
   "id": "bbaf7829",
   "metadata": {},
   "outputs": [],
   "source": [
    "import pandas as pd\n",
    "import numpy as np"
   ]
  },
  {
   "cell_type": "code",
   "execution_count": 125,
   "id": "e53ca0ce",
   "metadata": {},
   "outputs": [
    {
     "data": {
      "text/html": [
       "<div>\n",
       "<style scoped>\n",
       "    .dataframe tbody tr th:only-of-type {\n",
       "        vertical-align: middle;\n",
       "    }\n",
       "\n",
       "    .dataframe tbody tr th {\n",
       "        vertical-align: top;\n",
       "    }\n",
       "\n",
       "    .dataframe thead th {\n",
       "        text-align: right;\n",
       "    }\n",
       "</style>\n",
       "<table border=\"1\" class=\"dataframe\">\n",
       "  <thead>\n",
       "    <tr style=\"text-align: right;\">\n",
       "      <th></th>\n",
       "      <th>ID</th>\n",
       "      <th>Marital Status</th>\n",
       "      <th>Gender</th>\n",
       "      <th>Income</th>\n",
       "      <th>Children</th>\n",
       "      <th>Education</th>\n",
       "      <th>Occupation</th>\n",
       "      <th>Home Owner</th>\n",
       "      <th>Cars</th>\n",
       "      <th>Commute Distance</th>\n",
       "      <th>Region</th>\n",
       "      <th>Age</th>\n",
       "      <th>Purchased Bike</th>\n",
       "    </tr>\n",
       "  </thead>\n",
       "  <tbody>\n",
       "    <tr>\n",
       "      <th>0</th>\n",
       "      <td>12496</td>\n",
       "      <td>Married</td>\n",
       "      <td>Female</td>\n",
       "      <td>40000.0</td>\n",
       "      <td>1.0</td>\n",
       "      <td>Bachelors</td>\n",
       "      <td>Skilled Manual</td>\n",
       "      <td>Yes</td>\n",
       "      <td>0.0</td>\n",
       "      <td>0-1 Miles</td>\n",
       "      <td>Europe</td>\n",
       "      <td>42.0</td>\n",
       "      <td>No</td>\n",
       "    </tr>\n",
       "    <tr>\n",
       "      <th>1</th>\n",
       "      <td>24107</td>\n",
       "      <td>Married</td>\n",
       "      <td>Male</td>\n",
       "      <td>30000.0</td>\n",
       "      <td>3.0</td>\n",
       "      <td>Partial College</td>\n",
       "      <td>Clerical</td>\n",
       "      <td>Yes</td>\n",
       "      <td>1.0</td>\n",
       "      <td>0-1 Miles</td>\n",
       "      <td>Europe</td>\n",
       "      <td>43.0</td>\n",
       "      <td>No</td>\n",
       "    </tr>\n",
       "    <tr>\n",
       "      <th>2</th>\n",
       "      <td>14177</td>\n",
       "      <td>Married</td>\n",
       "      <td>Male</td>\n",
       "      <td>80000.0</td>\n",
       "      <td>5.0</td>\n",
       "      <td>Partial College</td>\n",
       "      <td>Professional</td>\n",
       "      <td>No</td>\n",
       "      <td>2.0</td>\n",
       "      <td>2-5 Miles</td>\n",
       "      <td>Europe</td>\n",
       "      <td>60.0</td>\n",
       "      <td>No</td>\n",
       "    </tr>\n",
       "    <tr>\n",
       "      <th>3</th>\n",
       "      <td>24381</td>\n",
       "      <td>Single</td>\n",
       "      <td>NaN</td>\n",
       "      <td>70000.0</td>\n",
       "      <td>0.0</td>\n",
       "      <td>Bachelors</td>\n",
       "      <td>Professional</td>\n",
       "      <td>Yes</td>\n",
       "      <td>1.0</td>\n",
       "      <td>5-10 Miles</td>\n",
       "      <td>Pacific</td>\n",
       "      <td>41.0</td>\n",
       "      <td>Yes</td>\n",
       "    </tr>\n",
       "    <tr>\n",
       "      <th>4</th>\n",
       "      <td>25597</td>\n",
       "      <td>Single</td>\n",
       "      <td>Male</td>\n",
       "      <td>30000.0</td>\n",
       "      <td>0.0</td>\n",
       "      <td>Bachelors</td>\n",
       "      <td>Clerical</td>\n",
       "      <td>No</td>\n",
       "      <td>0.0</td>\n",
       "      <td>0-1 Miles</td>\n",
       "      <td>Europe</td>\n",
       "      <td>36.0</td>\n",
       "      <td>Yes</td>\n",
       "    </tr>\n",
       "    <tr>\n",
       "      <th>...</th>\n",
       "      <td>...</td>\n",
       "      <td>...</td>\n",
       "      <td>...</td>\n",
       "      <td>...</td>\n",
       "      <td>...</td>\n",
       "      <td>...</td>\n",
       "      <td>...</td>\n",
       "      <td>...</td>\n",
       "      <td>...</td>\n",
       "      <td>...</td>\n",
       "      <td>...</td>\n",
       "      <td>...</td>\n",
       "      <td>...</td>\n",
       "    </tr>\n",
       "    <tr>\n",
       "      <th>995</th>\n",
       "      <td>23731</td>\n",
       "      <td>Married</td>\n",
       "      <td>Male</td>\n",
       "      <td>60000.0</td>\n",
       "      <td>2.0</td>\n",
       "      <td>High School</td>\n",
       "      <td>Professional</td>\n",
       "      <td>Yes</td>\n",
       "      <td>2.0</td>\n",
       "      <td>2-5 Miles</td>\n",
       "      <td>North America</td>\n",
       "      <td>54.0</td>\n",
       "      <td>Yes</td>\n",
       "    </tr>\n",
       "    <tr>\n",
       "      <th>996</th>\n",
       "      <td>28672</td>\n",
       "      <td>Single</td>\n",
       "      <td>Male</td>\n",
       "      <td>70000.0</td>\n",
       "      <td>4.0</td>\n",
       "      <td>Graduate Degree</td>\n",
       "      <td>Professional</td>\n",
       "      <td>Yes</td>\n",
       "      <td>0.0</td>\n",
       "      <td>2-5 Miles</td>\n",
       "      <td>North America</td>\n",
       "      <td>35.0</td>\n",
       "      <td>Yes</td>\n",
       "    </tr>\n",
       "    <tr>\n",
       "      <th>997</th>\n",
       "      <td>11809</td>\n",
       "      <td>Married</td>\n",
       "      <td>NaN</td>\n",
       "      <td>60000.0</td>\n",
       "      <td>2.0</td>\n",
       "      <td>Bachelors</td>\n",
       "      <td>Skilled Manual</td>\n",
       "      <td>Yes</td>\n",
       "      <td>0.0</td>\n",
       "      <td>0-1 Miles</td>\n",
       "      <td>North America</td>\n",
       "      <td>38.0</td>\n",
       "      <td>Yes</td>\n",
       "    </tr>\n",
       "    <tr>\n",
       "      <th>998</th>\n",
       "      <td>19664</td>\n",
       "      <td>Single</td>\n",
       "      <td>Male</td>\n",
       "      <td>100000.0</td>\n",
       "      <td>3.0</td>\n",
       "      <td>Bachelors</td>\n",
       "      <td>Management</td>\n",
       "      <td>No</td>\n",
       "      <td>3.0</td>\n",
       "      <td>1-2 Miles</td>\n",
       "      <td>North America</td>\n",
       "      <td>38.0</td>\n",
       "      <td>No</td>\n",
       "    </tr>\n",
       "    <tr>\n",
       "      <th>999</th>\n",
       "      <td>12121</td>\n",
       "      <td>Single</td>\n",
       "      <td>Male</td>\n",
       "      <td>60000.0</td>\n",
       "      <td>3.0</td>\n",
       "      <td>High School</td>\n",
       "      <td>Professional</td>\n",
       "      <td>Yes</td>\n",
       "      <td>2.0</td>\n",
       "      <td>10+ Miles</td>\n",
       "      <td>North America</td>\n",
       "      <td>53.0</td>\n",
       "      <td>Yes</td>\n",
       "    </tr>\n",
       "  </tbody>\n",
       "</table>\n",
       "<p>1000 rows × 13 columns</p>\n",
       "</div>"
      ],
      "text/plain": [
       "        ID Marital Status  Gender    Income  Children        Education  \\\n",
       "0    12496        Married  Female   40000.0       1.0        Bachelors   \n",
       "1    24107        Married    Male   30000.0       3.0  Partial College   \n",
       "2    14177        Married    Male   80000.0       5.0  Partial College   \n",
       "3    24381         Single     NaN   70000.0       0.0        Bachelors   \n",
       "4    25597         Single    Male   30000.0       0.0        Bachelors   \n",
       "..     ...            ...     ...       ...       ...              ...   \n",
       "995  23731        Married    Male   60000.0       2.0      High School   \n",
       "996  28672         Single    Male   70000.0       4.0  Graduate Degree   \n",
       "997  11809        Married     NaN   60000.0       2.0        Bachelors   \n",
       "998  19664         Single    Male  100000.0       3.0        Bachelors   \n",
       "999  12121         Single    Male   60000.0       3.0      High School   \n",
       "\n",
       "         Occupation Home Owner  Cars Commute Distance         Region   Age  \\\n",
       "0    Skilled Manual        Yes   0.0        0-1 Miles         Europe  42.0   \n",
       "1          Clerical        Yes   1.0        0-1 Miles         Europe  43.0   \n",
       "2      Professional         No   2.0        2-5 Miles         Europe  60.0   \n",
       "3      Professional        Yes   1.0       5-10 Miles        Pacific  41.0   \n",
       "4          Clerical         No   0.0        0-1 Miles         Europe  36.0   \n",
       "..              ...        ...   ...              ...            ...   ...   \n",
       "995    Professional        Yes   2.0        2-5 Miles  North America  54.0   \n",
       "996    Professional        Yes   0.0        2-5 Miles  North America  35.0   \n",
       "997  Skilled Manual        Yes   0.0        0-1 Miles  North America  38.0   \n",
       "998      Management         No   3.0        1-2 Miles  North America  38.0   \n",
       "999    Professional        Yes   2.0        10+ Miles  North America  53.0   \n",
       "\n",
       "    Purchased Bike  \n",
       "0               No  \n",
       "1               No  \n",
       "2               No  \n",
       "3              Yes  \n",
       "4              Yes  \n",
       "..             ...  \n",
       "995            Yes  \n",
       "996            Yes  \n",
       "997            Yes  \n",
       "998             No  \n",
       "999            Yes  \n",
       "\n",
       "[1000 rows x 13 columns]"
      ]
     },
     "execution_count": 125,
     "metadata": {},
     "output_type": "execute_result"
    }
   ],
   "source": [
    "# Read the CSV file into a DataFrame\n",
    "df = pd.read_csv(\"Downloads/archive (2)/bike_buyers.csv\")\n",
    "# Display the DataFrame\n",
    "df"
   ]
  },
  {
   "cell_type": "code",
   "execution_count": 126,
   "id": "36672d7e",
   "metadata": {},
   "outputs": [
    {
     "name": "stdout",
     "output_type": "stream",
     "text": [
      "<class 'pandas.core.frame.DataFrame'>\n",
      "RangeIndex: 1000 entries, 0 to 999\n",
      "Data columns (total 13 columns):\n",
      " #   Column            Non-Null Count  Dtype  \n",
      "---  ------            --------------  -----  \n",
      " 0   ID                1000 non-null   int64  \n",
      " 1   Marital Status    993 non-null    object \n",
      " 2   Gender            989 non-null    object \n",
      " 3   Income            994 non-null    float64\n",
      " 4   Children          992 non-null    float64\n",
      " 5   Education         1000 non-null   object \n",
      " 6   Occupation        1000 non-null   object \n",
      " 7   Home Owner        996 non-null    object \n",
      " 8   Cars              991 non-null    float64\n",
      " 9   Commute Distance  1000 non-null   object \n",
      " 10  Region            1000 non-null   object \n",
      " 11  Age               992 non-null    float64\n",
      " 12  Purchased Bike    1000 non-null   object \n",
      "dtypes: float64(4), int64(1), object(8)\n",
      "memory usage: 101.7+ KB\n"
     ]
    }
   ],
   "source": [
    "# Print information about the DataFrame\n",
    "df.info()"
   ]
  },
  {
   "cell_type": "code",
   "execution_count": 127,
   "id": "9f2c1783",
   "metadata": {},
   "outputs": [],
   "source": [
    "# Prepare the data for modeling\n",
    "X = df.drop(columns = ['Purchased Bike','ID'])\n",
    "Y = df['Purchased Bike']"
   ]
  },
  {
   "cell_type": "code",
   "execution_count": 128,
   "id": "ded06124",
   "metadata": {},
   "outputs": [],
   "source": [
    "# Perform one-hot encoding on categorical features\n",
    "X = pd.get_dummies(X) "
   ]
  },
  {
   "cell_type": "code",
   "execution_count": 129,
   "id": "cdb2979a",
   "metadata": {},
   "outputs": [],
   "source": [
    "# Upsample the data to have 100,000 samples\n",
    "X = np.tile(X, (100, 1))\n",
    "Y = np.tile(Y, (100, 1))\n",
    "\n",
    "# Change Y to 1D array\n",
    "Y = Y.ravel()"
   ]
  },
  {
   "cell_type": "code",
   "execution_count": 130,
   "id": "49ad8d62",
   "metadata": {},
   "outputs": [],
   "source": [
    "# Import necessary libraries\n",
    "from sklearn.preprocessing import StandardScaler, LabelEncoder, OrdinalEncoder, OneHotEncoder,MinMaxScaler\n",
    "from sklearn.impute import SimpleImputer"
   ]
  },
  {
   "cell_type": "code",
   "execution_count": 131,
   "id": "f11a2a0f",
   "metadata": {},
   "outputs": [],
   "source": [
    "# Impute missing values with the median\n",
    "Imputer = SimpleImputer(strategy='median')\n",
    "X = Imputer.fit_transform(X)\n",
    "# Scale the features using StandardScaler\n",
    "scaler = StandardScaler()\n",
    "X = scaler.fit_transform(X)"
   ]
  },
  {
   "cell_type": "code",
   "execution_count": 132,
   "id": "afdd3d72",
   "metadata": {},
   "outputs": [
    {
     "data": {
      "text/plain": [
       "array([0, 0, 0, ..., 1, 0, 1])"
      ]
     },
     "execution_count": 132,
     "metadata": {},
     "output_type": "execute_result"
    }
   ],
   "source": [
    "# Encode the target variable using LabelEncoder\n",
    "Label = LabelEncoder()\n",
    "Y = Label.fit_transform(Y)\n",
    "Y"
   ]
  },
  {
   "cell_type": "code",
   "execution_count": 133,
   "id": "84f10000",
   "metadata": {},
   "outputs": [],
   "source": [
    "from sklearn.model_selection import train_test_split\n",
    "from sklearn.metrics import accuracy_score\n",
    "\n",
    "# Split the data into train and test sets\n",
    "X_train, X_test, y_train, y_test = train_test_split(X, Y, test_size=0.3, random_state=42)\n"
   ]
  },
  {
   "cell_type": "markdown",
   "id": "6034efa2",
   "metadata": {},
   "source": [
    "# Decision Tree"
   ]
  },
  {
   "cell_type": "code",
   "execution_count": 134,
   "id": "bb396865",
   "metadata": {},
   "outputs": [
    {
     "data": {
      "text/plain": [
       "DecisionTreeClassifier()"
      ]
     },
     "execution_count": 134,
     "metadata": {},
     "output_type": "execute_result"
    }
   ],
   "source": [
    "from sklearn.tree import DecisionTreeClassifier\n",
    "# # Create a decision tree classifier\n",
    "decision_tree_model = DecisionTreeClassifier()\n",
    "\n",
    "decision_tree_model.fit(X_train, y_train)"
   ]
  },
  {
   "cell_type": "code",
   "execution_count": 135,
   "id": "e9eca059",
   "metadata": {},
   "outputs": [
    {
     "name": "stdout",
     "output_type": "stream",
     "text": [
      "Decision Tree Accuracy 0.9905\n"
     ]
    }
   ],
   "source": [
    "decision_tree_y_pred = decision_tree_model.predict(X_test)\n",
    "decision_tree_accuracy = accuracy_score(y_test, decision_tree_y_pred)\n",
    "print(f\"Decision Tree Accuracy {decision_tree_accuracy}\")"
   ]
  },
  {
   "cell_type": "markdown",
   "id": "c3663363",
   "metadata": {},
   "source": [
    "# LOGISTIC REGRESSION"
   ]
  },
  {
   "cell_type": "code",
   "execution_count": 136,
   "id": "f6d87730",
   "metadata": {},
   "outputs": [
    {
     "data": {
      "text/plain": [
       "LogisticRegression()"
      ]
     },
     "execution_count": 136,
     "metadata": {},
     "output_type": "execute_result"
    }
   ],
   "source": [
    "from sklearn.linear_model import LogisticRegression\n",
    "# Create a decision tree classifier\n",
    "logistic_regression_model = LogisticRegression()\n",
    "\n",
    "logistic_regression_model.fit(X_train, y_train)\n"
   ]
  },
  {
   "cell_type": "code",
   "execution_count": 137,
   "id": "87fc7837",
   "metadata": {},
   "outputs": [
    {
     "name": "stdout",
     "output_type": "stream",
     "text": [
      "Linear Regression Accuracy 0.6628333333333334\n"
     ]
    }
   ],
   "source": [
    "logistic_regression_y_pred = logistic_regression_model.predict(X_test)\n",
    "logistic_regression_accuracy = accuracy_score(y_test, logistic_regression_y_pred)\n",
    "print(f\"Linear Regression Accuracy {logistic_regression_accuracy}\")"
   ]
  },
  {
   "cell_type": "markdown",
   "id": "4211d355",
   "metadata": {},
   "source": [
    "# Neural Network"
   ]
  },
  {
   "cell_type": "code",
   "execution_count": 138,
   "id": "a89e6405",
   "metadata": {},
   "outputs": [],
   "source": [
    "# Build the deep learning model\n",
    "import tensorflow as tf\n",
    "from tensorflow import keras\n",
    "from tensorflow.keras import Sequential\n",
    "from tensorflow.keras.layers import Dense\n",
    "from tensorflow.keras.losses import BinaryCrossentropy\n"
   ]
  },
  {
   "cell_type": "code",
   "execution_count": 139,
   "id": "19447f72",
   "metadata": {},
   "outputs": [],
   "source": [
    "# Build the deep learning model\n",
    "model = Sequential([\n",
    "    Dense(128, activation='relu'),\n",
    "    Dense(64, activation='relu'),\n",
    "    Dense(64, activation='relu'),\n",
    "    Dense(32, activation='relu'),\n",
    "    Dense(1, activation='sigmoid')\n",
    "])"
   ]
  },
  {
   "cell_type": "code",
   "execution_count": 140,
   "id": "a4279624",
   "metadata": {},
   "outputs": [],
   "source": [
    "# Compile the model\n",
    "model.compile(\n",
    "    optimizer = tf.keras.optimizers.Adam(learning_rate = 0.0001),\n",
    "    loss=tf.keras.losses.BinaryCrossentropy(),\n",
    "    metrics=['accuracy']\n",
    ")"
   ]
  },
  {
   "cell_type": "code",
   "execution_count": 141,
   "id": "9cc677c5",
   "metadata": {},
   "outputs": [
    {
     "name": "stdout",
     "output_type": "stream",
     "text": [
      "Epoch 1/10\n",
      "2188/2188 [==============================] - 6s 2ms/step - loss: 0.4778 - accuracy: 0.7754\n",
      "Epoch 2/10\n",
      "2188/2188 [==============================] - 4s 2ms/step - loss: 0.2333 - accuracy: 0.9077\n",
      "Epoch 3/10\n",
      "2188/2188 [==============================] - 4s 2ms/step - loss: 0.1390 - accuracy: 0.9436\n",
      "Epoch 4/10\n",
      "2188/2188 [==============================] - 4s 2ms/step - loss: 0.1061 - accuracy: 0.9550\n",
      "Epoch 5/10\n",
      "2188/2188 [==============================] - 4s 2ms/step - loss: 0.0927 - accuracy: 0.9588\n",
      "Epoch 6/10\n",
      "2188/2188 [==============================] - 4s 2ms/step - loss: 0.0847 - accuracy: 0.9604\n",
      "Epoch 7/10\n",
      "2188/2188 [==============================] - 4s 2ms/step - loss: 0.0795 - accuracy: 0.9627\n",
      "Epoch 8/10\n",
      "2188/2188 [==============================] - 4s 2ms/step - loss: 0.0757 - accuracy: 0.9650\n",
      "Epoch 9/10\n",
      "2188/2188 [==============================] - 4s 2ms/step - loss: 0.0729 - accuracy: 0.9649\n",
      "Epoch 10/10\n",
      "2188/2188 [==============================] - 4s 2ms/step - loss: 0.0710 - accuracy: 0.9662\n"
     ]
    },
    {
     "data": {
      "text/plain": [
       "<keras.callbacks.History at 0x1fbb993f820>"
      ]
     },
     "execution_count": 141,
     "metadata": {},
     "output_type": "execute_result"
    }
   ],
   "source": [
    "# Train the model\n",
    "model.fit(X_train, y_train, epochs=10)"
   ]
  },
  {
   "cell_type": "code",
   "execution_count": 142,
   "id": "c1cf4553",
   "metadata": {},
   "outputs": [
    {
     "name": "stdout",
     "output_type": "stream",
     "text": [
      "938/938 [==============================] - 2s 2ms/step - loss: 0.0663 - accuracy: 0.9632\n",
      "Neural Network Accuracy 0.9631999731063843\n"
     ]
    }
   ],
   "source": [
    "loss, accuracy = model.evaluate(X_test, y_test)\n",
    "print(f\"Neural Network Accuracy {accuracy}\")"
   ]
  },
  {
   "cell_type": "code",
   "execution_count": null,
   "id": "ea360ff2",
   "metadata": {},
   "outputs": [],
   "source": []
  },
  {
   "cell_type": "code",
   "execution_count": null,
   "id": "7ffe9e65",
   "metadata": {},
   "outputs": [],
   "source": []
  }
 ],
 "metadata": {
  "kernelspec": {
   "display_name": "Python 3 (ipykernel)",
   "language": "python",
   "name": "python3"
  },
  "language_info": {
   "codemirror_mode": {
    "name": "ipython",
    "version": 3
   },
   "file_extension": ".py",
   "mimetype": "text/x-python",
   "name": "python",
   "nbconvert_exporter": "python",
   "pygments_lexer": "ipython3",
   "version": "3.9.12"
  }
 },
 "nbformat": 4,
 "nbformat_minor": 5
}
